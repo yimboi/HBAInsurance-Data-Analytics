{
 "cells": [
  {
   "cell_type": "code",
   "execution_count": 1,
   "id": "8e3b717f-b7b6-434d-bb17-dc88ae259f6d",
   "metadata": {},
   "outputs": [],
   "source": [
    "# import\n",
    "import pandas as pd\n",
    "import numpy as np\n",
    "import matplotlib.pyplot as plt\n",
    "import seaborn as sns\n",
    "from scipy.stats import skew\n",
    "from scipy.stats import kurtosis"
   ]
  },
  {
   "cell_type": "markdown",
   "id": "39ae076e-ccda-4a12-bfb3-e75557edee25",
   "metadata": {},
   "source": [
    "# Data Preparation"
   ]
  },
  {
   "cell_type": "code",
   "execution_count": 2,
   "id": "0318ecfe-05bf-4399-95b6-bc66e4899721",
   "metadata": {},
   "outputs": [],
   "source": [
    "# import account excel file\n",
    "account = pd.read_excel('Account.xlsx')\n",
    "\n",
    "# import customer excel file\n",
    "customer = pd.read_excel('Customer - Latest.xlsx')"
   ]
  },
  {
   "cell_type": "code",
   "execution_count": 3,
   "id": "68d58cb9-83ce-45d6-8772-58b7415841eb",
   "metadata": {},
   "outputs": [
    {
     "name": "stdout",
     "output_type": "stream",
     "text": [
      "   POLICY_NUMBER  PLAN_CODE  CLIENT_CODE  SUM_ASSURED  MODAL_PREMIUM  \\\n",
      "0          36461        166            2      25000.0           1763   \n",
      "1           4842        114           21      15000.0           1561   \n",
      "2          10473         24           39     250000.0            420   \n",
      "3           9874        105           40      12500.0           1355   \n",
      "4           2279        115           41      25000.0           1518   \n",
      "\n",
      "  ISSUE_DATE TYPE POLICY_STATUS SURRENDER_DATE  PAYMENT_MODE  \n",
      "0 2020-06-24    E      IN-FORCE            NaT             1  \n",
      "1 2020-03-18    A      IN-FORCE            NaT            12  \n",
      "2 2020-06-09    A      IN-FORCE            NaT             1  \n",
      "3 2020-06-04    A      IN-FORCE            NaT            12  \n",
      "4 2020-02-29    A      IN-FORCE            NaT            12  \n",
      "\n",
      "\n",
      "   CLIENT_CODE AGE MARITAL_STATUS GENDER  INCOME  POSTCODE LASTUPDATE\n",
      "0           21   E              M      F  120000     76300 2020-12-26\n",
      "1           39   E              D      F   72000     41400 2023-06-23\n",
      "2           40   E              M      F   48000     41400 2023-01-01\n",
      "3           41   E              S      M  108000     47400 2021-10-20\n",
      "4           55   D              S      F  250000     41250 2022-03-02\n"
     ]
    }
   ],
   "source": [
    "# displays the first few rows of the datasets\n",
    "# account\n",
    "print(account.head())\n",
    "print('\\n')\n",
    "# customer\n",
    "print(customer.head())"
   ]
  },
  {
   "cell_type": "markdown",
   "id": "3ebb8546-0939-40ab-8848-72ef20e16d1b",
   "metadata": {},
   "source": [
    "# EDA"
   ]
  },
  {
   "cell_type": "code",
   "execution_count": 4,
   "id": "58b2df2a-91cb-411e-84ab-dd50e46fc7f9",
   "metadata": {},
   "outputs": [
    {
     "name": "stdout",
     "output_type": "stream",
     "text": [
      "<class 'pandas.core.frame.DataFrame'>\n",
      "RangeIndex: 4017 entries, 0 to 4016\n",
      "Data columns (total 10 columns):\n",
      " #   Column          Non-Null Count  Dtype         \n",
      "---  ------          --------------  -----         \n",
      " 0   POLICY_NUMBER   4017 non-null   int64         \n",
      " 1   PLAN_CODE       4017 non-null   int64         \n",
      " 2   CLIENT_CODE     4017 non-null   int64         \n",
      " 3   SUM_ASSURED     4004 non-null   float64       \n",
      " 4   MODAL_PREMIUM   4017 non-null   int64         \n",
      " 5   ISSUE_DATE      4017 non-null   datetime64[ns]\n",
      " 6   TYPE            4017 non-null   object        \n",
      " 7   POLICY_STATUS   4017 non-null   object        \n",
      " 8   SURRENDER_DATE  33 non-null     datetime64[ns]\n",
      " 9   PAYMENT_MODE    4017 non-null   int64         \n",
      "dtypes: datetime64[ns](2), float64(1), int64(5), object(2)\n",
      "memory usage: 314.0+ KB\n",
      "None\n",
      "\n",
      "\n",
      "<class 'pandas.core.frame.DataFrame'>\n",
      "RangeIndex: 4013 entries, 0 to 4012\n",
      "Data columns (total 7 columns):\n",
      " #   Column          Non-Null Count  Dtype         \n",
      "---  ------          --------------  -----         \n",
      " 0   CLIENT_CODE     4013 non-null   int64         \n",
      " 1   AGE             4013 non-null   object        \n",
      " 2   MARITAL_STATUS  3846 non-null   object        \n",
      " 3   GENDER          4013 non-null   object        \n",
      " 4   INCOME          4013 non-null   int64         \n",
      " 5   POSTCODE        4013 non-null   int64         \n",
      " 6   LASTUPDATE      4013 non-null   datetime64[ns]\n",
      "dtypes: datetime64[ns](1), int64(3), object(3)\n",
      "memory usage: 219.6+ KB\n",
      "None\n"
     ]
    }
   ],
   "source": [
    "# metadata for account, customer\n",
    "\n",
    "print(account.info())\n",
    "print('\\n')\n",
    "print(customer.info())\n",
    "\n",
    "## for account\n",
    "# POLICY_NUMBER, PLAN_CODE, CLIENT_CODE, SUM_ASSURED, MODAL_PREMIUM, PAYMENT_MODE are numerical type\n",
    "# ISSUE_DATE, SURRENDER_DATE are datetime type\n",
    "# TYPE, POLICY_STATUS are string type\n",
    "# 4017 entries\n",
    "\n",
    "## for customer\n",
    "# CLIENT_CODE, INCOME, POSTCODE are numerical type\n",
    "# AGE, MARTIAL_STATUS, GENDER are string type\n",
    "# LASTUPDATE are datetime type\n",
    "# 4013 entries\n",
    "\n",
    "\n",
    "## prelim. observations\n",
    "# Between these two datasets, there is only 1 column that are common which is the CLIENT_CODE (potential keys) to connect 2 datasets\n",
    "# 'AGE' column under the customer dataset is a string type for some reason"
   ]
  },
  {
   "cell_type": "code",
   "execution_count": 5,
   "id": "0028ba34-f24f-447e-ba55-cfc138a4235e",
   "metadata": {},
   "outputs": [
    {
     "name": "stdout",
     "output_type": "stream",
     "text": [
      "       POLICY_NUMBER    PLAN_CODE   CLIENT_CODE   SUM_ASSURED  MODAL_PREMIUM  \\\n",
      "count    4017.000000  4017.000000   4017.000000  4.004000e+03    4017.000000   \n",
      "mean    19778.249440   107.263630  16918.975604  3.913859e+05    1592.545183   \n",
      "std     11475.464835    57.248332   9915.556984  2.101303e+06     810.903380   \n",
      "min        14.000000     0.000000      2.000000  3.750000e+02     200.000000   \n",
      "25%      9932.000000    66.000000   8255.000000  5.000000e+04     879.000000   \n",
      "50%     19708.000000   132.000000  16750.000000  1.250000e+05    1596.000000   \n",
      "75%     29549.000000   154.000000  25516.000000  3.375000e+05    2286.000000   \n",
      "max     39728.000000   170.000000  33119.000000  8.766845e+07    2998.000000   \n",
      "\n",
      "       PAYMENT_MODE  \n",
      "count   4017.000000  \n",
      "mean       6.516555  \n",
      "std        5.423250  \n",
      "min        0.000000  \n",
      "25%        1.000000  \n",
      "50%        6.000000  \n",
      "75%       12.000000  \n",
      "max       12.000000  \n",
      "\n",
      "\n",
      "        CLIENT_CODE         INCOME      POSTCODE\n",
      "count   4013.000000    4013.000000   4013.000000\n",
      "mean   16911.176177  105899.327187  51016.468976\n",
      "std     9907.156284  120025.702764  21407.830736\n",
      "min       21.000000       0.000000  10470.000000\n",
      "25%     8255.000000   48000.000000  41250.000000\n",
      "50%    16709.000000   60000.000000  50450.000000\n",
      "75%    25488.000000  108000.000000  75000.000000\n",
      "max    33119.000000  500000.000000  81100.000000\n"
     ]
    }
   ],
   "source": [
    "# summary statistics by describing the dataset\n",
    "# for account\n",
    "print(account.describe())\n",
    "      \n",
    "print('\\n')\n",
    "\n",
    "# for customer\n",
    "print(customer.describe())\n",
    "\n",
    "## prelim. observations\n",
    "\n",
    "## for account\n",
    "# For the SUM_ASSURED\n",
    "# the avg is RM 391,385\n",
    "# the median is RM 125,000\n",
    "# the max is RM 87,668,450\n",
    "# right - skewed distribution avg > median\n",
    "\n",
    "# For the MODAL_PREMIUM\n",
    "# the avg is RM 1,592\n",
    "# the median is RM 1,596\n",
    "# the max is RM 2,998\n",
    "# approximately normal distribution\n",
    "\n",
    "# For the PAYMENT_MODE\n",
    "# the avg is 6.5\n",
    "# the median is 6\n",
    "# the max is 12\n",
    "# approximately normal distribution\n",
    "\n",
    "## for customer\n",
    "# For the INCOME\n",
    "# the avg is RM 105,899\n",
    "# the median is RM 60,000\n",
    "# the max is  RM 500,000\n",
    "# right - skewed distribution avg > median"
   ]
  },
  {
   "cell_type": "markdown",
   "id": "0538e19c-fc13-48eb-8940-f2b626c9504d",
   "metadata": {},
   "source": [
    "## Detect missing values"
   ]
  },
  {
   "cell_type": "code",
   "execution_count": 6,
   "id": "c5ec8959-6d68-452f-a373-1200fc16104b",
   "metadata": {},
   "outputs": [
    {
     "name": "stdout",
     "output_type": "stream",
     "text": [
      "POLICY_NUMBER        0\n",
      "PLAN_CODE            0\n",
      "CLIENT_CODE          0\n",
      "SUM_ASSURED         13\n",
      "MODAL_PREMIUM        0\n",
      "ISSUE_DATE           0\n",
      "TYPE                 0\n",
      "POLICY_STATUS        0\n",
      "SURRENDER_DATE    3984\n",
      "PAYMENT_MODE         0\n",
      "dtype: int64\n",
      "\n",
      "\n",
      "CLIENT_CODE         0\n",
      "AGE                 0\n",
      "MARITAL_STATUS    167\n",
      "GENDER              0\n",
      "INCOME              0\n",
      "POSTCODE            0\n",
      "LASTUPDATE          0\n",
      "dtype: int64\n"
     ]
    }
   ],
   "source": [
    "# Null or missing values\n",
    "# for account\n",
    "account_missingval = account.isnull().sum()\n",
    "\n",
    "print(account_missingval)\n",
    "print('\\n')\n",
    "\n",
    "# for customer\n",
    "customer_missingval = customer.isnull().sum()\n",
    "\n",
    "print(customer_missingval)\n",
    "\n",
    "## prelim. observations\n",
    "\n",
    "## For account\n",
    "# For SUM_ASSURED has 13 missing values\n",
    "# For SURRENDER_DATE has significant number of missing values (3,984). This is expected as most policies are still in forced till now\n",
    "\n",
    "## For customer\n",
    "# For MARTIAL_STATUS has 167 missing values\n",
    "# Further analysis on the data for MARITAL_STATUS is required"
   ]
  },
  {
   "cell_type": "code",
   "execution_count": 7,
   "id": "84152c32-9c95-4acb-b0c2-972df0632fe8",
   "metadata": {},
   "outputs": [
    {
     "data": {
      "text/plain": [
       "CLIENT_CODE                        98\n",
       "AGE                                 C\n",
       "MARITAL_STATUS                    NaN\n",
       "GENDER                              M\n",
       "INCOME                          48000\n",
       "POSTCODE                        42000\n",
       "LASTUPDATE        2021-04-17 00:00:00\n",
       "Name: 10, dtype: object"
      ]
     },
     "execution_count": 7,
     "metadata": {},
     "output_type": "execute_result"
    }
   ],
   "source": [
    "customer.loc[10,:]"
   ]
  },
  {
   "cell_type": "code",
   "execution_count": 8,
   "id": "0584df25-6a25-413a-b5b1-1648938ecc90",
   "metadata": {},
   "outputs": [
    {
     "data": {
      "text/html": [
       "<div>\n",
       "<style scoped>\n",
       "    .dataframe tbody tr th:only-of-type {\n",
       "        vertical-align: middle;\n",
       "    }\n",
       "\n",
       "    .dataframe tbody tr th {\n",
       "        vertical-align: top;\n",
       "    }\n",
       "\n",
       "    .dataframe thead th {\n",
       "        text-align: right;\n",
       "    }\n",
       "</style>\n",
       "<table border=\"1\" class=\"dataframe\">\n",
       "  <thead>\n",
       "    <tr style=\"text-align: right;\">\n",
       "      <th></th>\n",
       "      <th></th>\n",
       "      <th>CLIENT_CODE</th>\n",
       "      <th>GENDER</th>\n",
       "      <th>INCOME</th>\n",
       "      <th>POSTCODE</th>\n",
       "      <th>LASTUPDATE</th>\n",
       "    </tr>\n",
       "    <tr>\n",
       "      <th>AGE</th>\n",
       "      <th>MARITAL_STATUS</th>\n",
       "      <th></th>\n",
       "      <th></th>\n",
       "      <th></th>\n",
       "      <th></th>\n",
       "      <th></th>\n",
       "    </tr>\n",
       "  </thead>\n",
       "  <tbody>\n",
       "    <tr>\n",
       "      <th rowspan=\"2\" valign=\"top\">A</th>\n",
       "      <th>S</th>\n",
       "      <td>20</td>\n",
       "      <td>20</td>\n",
       "      <td>20</td>\n",
       "      <td>20</td>\n",
       "      <td>20</td>\n",
       "    </tr>\n",
       "    <tr>\n",
       "      <th>NaN</th>\n",
       "      <td>155</td>\n",
       "      <td>155</td>\n",
       "      <td>155</td>\n",
       "      <td>155</td>\n",
       "      <td>155</td>\n",
       "    </tr>\n",
       "    <tr>\n",
       "      <th rowspan=\"4\" valign=\"top\">B</th>\n",
       "      <th>D</th>\n",
       "      <td>11</td>\n",
       "      <td>11</td>\n",
       "      <td>11</td>\n",
       "      <td>11</td>\n",
       "      <td>11</td>\n",
       "    </tr>\n",
       "    <tr>\n",
       "      <th>M</th>\n",
       "      <td>266</td>\n",
       "      <td>266</td>\n",
       "      <td>266</td>\n",
       "      <td>266</td>\n",
       "      <td>266</td>\n",
       "    </tr>\n",
       "    <tr>\n",
       "      <th>S</th>\n",
       "      <td>1027</td>\n",
       "      <td>1027</td>\n",
       "      <td>1027</td>\n",
       "      <td>1027</td>\n",
       "      <td>1027</td>\n",
       "    </tr>\n",
       "    <tr>\n",
       "      <th>NaN</th>\n",
       "      <td>5</td>\n",
       "      <td>5</td>\n",
       "      <td>5</td>\n",
       "      <td>5</td>\n",
       "      <td>5</td>\n",
       "    </tr>\n",
       "    <tr>\n",
       "      <th rowspan=\"6\" valign=\"top\">C</th>\n",
       "      <th>D</th>\n",
       "      <td>25</td>\n",
       "      <td>25</td>\n",
       "      <td>25</td>\n",
       "      <td>25</td>\n",
       "      <td>25</td>\n",
       "    </tr>\n",
       "    <tr>\n",
       "      <th>M</th>\n",
       "      <td>781</td>\n",
       "      <td>781</td>\n",
       "      <td>781</td>\n",
       "      <td>781</td>\n",
       "      <td>781</td>\n",
       "    </tr>\n",
       "    <tr>\n",
       "      <th>R</th>\n",
       "      <td>1</td>\n",
       "      <td>1</td>\n",
       "      <td>1</td>\n",
       "      <td>1</td>\n",
       "      <td>1</td>\n",
       "    </tr>\n",
       "    <tr>\n",
       "      <th>S</th>\n",
       "      <td>299</td>\n",
       "      <td>299</td>\n",
       "      <td>299</td>\n",
       "      <td>299</td>\n",
       "      <td>299</td>\n",
       "    </tr>\n",
       "    <tr>\n",
       "      <th>W</th>\n",
       "      <td>9</td>\n",
       "      <td>9</td>\n",
       "      <td>9</td>\n",
       "      <td>9</td>\n",
       "      <td>9</td>\n",
       "    </tr>\n",
       "    <tr>\n",
       "      <th>NaN</th>\n",
       "      <td>3</td>\n",
       "      <td>3</td>\n",
       "      <td>3</td>\n",
       "      <td>3</td>\n",
       "      <td>3</td>\n",
       "    </tr>\n",
       "    <tr>\n",
       "      <th rowspan=\"6\" valign=\"top\">D</th>\n",
       "      <th>D</th>\n",
       "      <td>30</td>\n",
       "      <td>30</td>\n",
       "      <td>30</td>\n",
       "      <td>30</td>\n",
       "      <td>30</td>\n",
       "    </tr>\n",
       "    <tr>\n",
       "      <th>M</th>\n",
       "      <td>764</td>\n",
       "      <td>764</td>\n",
       "      <td>764</td>\n",
       "      <td>764</td>\n",
       "      <td>764</td>\n",
       "    </tr>\n",
       "    <tr>\n",
       "      <th>R</th>\n",
       "      <td>4</td>\n",
       "      <td>4</td>\n",
       "      <td>4</td>\n",
       "      <td>4</td>\n",
       "      <td>4</td>\n",
       "    </tr>\n",
       "    <tr>\n",
       "      <th>S</th>\n",
       "      <td>127</td>\n",
       "      <td>127</td>\n",
       "      <td>127</td>\n",
       "      <td>127</td>\n",
       "      <td>127</td>\n",
       "    </tr>\n",
       "    <tr>\n",
       "      <th>W</th>\n",
       "      <td>12</td>\n",
       "      <td>12</td>\n",
       "      <td>12</td>\n",
       "      <td>12</td>\n",
       "      <td>12</td>\n",
       "    </tr>\n",
       "    <tr>\n",
       "      <th>NaN</th>\n",
       "      <td>3</td>\n",
       "      <td>3</td>\n",
       "      <td>3</td>\n",
       "      <td>3</td>\n",
       "      <td>3</td>\n",
       "    </tr>\n",
       "    <tr>\n",
       "      <th rowspan=\"6\" valign=\"top\">E</th>\n",
       "      <th>D</th>\n",
       "      <td>14</td>\n",
       "      <td>14</td>\n",
       "      <td>14</td>\n",
       "      <td>14</td>\n",
       "      <td>14</td>\n",
       "    </tr>\n",
       "    <tr>\n",
       "      <th>M</th>\n",
       "      <td>395</td>\n",
       "      <td>395</td>\n",
       "      <td>395</td>\n",
       "      <td>395</td>\n",
       "      <td>395</td>\n",
       "    </tr>\n",
       "    <tr>\n",
       "      <th>R</th>\n",
       "      <td>4</td>\n",
       "      <td>4</td>\n",
       "      <td>4</td>\n",
       "      <td>4</td>\n",
       "      <td>4</td>\n",
       "    </tr>\n",
       "    <tr>\n",
       "      <th>S</th>\n",
       "      <td>48</td>\n",
       "      <td>48</td>\n",
       "      <td>48</td>\n",
       "      <td>48</td>\n",
       "      <td>48</td>\n",
       "    </tr>\n",
       "    <tr>\n",
       "      <th>W</th>\n",
       "      <td>9</td>\n",
       "      <td>9</td>\n",
       "      <td>9</td>\n",
       "      <td>9</td>\n",
       "      <td>9</td>\n",
       "    </tr>\n",
       "    <tr>\n",
       "      <th>NaN</th>\n",
       "      <td>1</td>\n",
       "      <td>1</td>\n",
       "      <td>1</td>\n",
       "      <td>1</td>\n",
       "      <td>1</td>\n",
       "    </tr>\n",
       "  </tbody>\n",
       "</table>\n",
       "</div>"
      ],
      "text/plain": [
       "                    CLIENT_CODE  GENDER  INCOME  POSTCODE  LASTUPDATE\n",
       "AGE MARITAL_STATUS                                                   \n",
       "A   S                        20      20      20        20          20\n",
       "    NaN                     155     155     155       155         155\n",
       "B   D                        11      11      11        11          11\n",
       "    M                       266     266     266       266         266\n",
       "    S                      1027    1027    1027      1027        1027\n",
       "    NaN                       5       5       5         5           5\n",
       "C   D                        25      25      25        25          25\n",
       "    M                       781     781     781       781         781\n",
       "    R                         1       1       1         1           1\n",
       "    S                       299     299     299       299         299\n",
       "    W                         9       9       9         9           9\n",
       "    NaN                       3       3       3         3           3\n",
       "D   D                        30      30      30        30          30\n",
       "    M                       764     764     764       764         764\n",
       "    R                         4       4       4         4           4\n",
       "    S                       127     127     127       127         127\n",
       "    W                        12      12      12        12          12\n",
       "    NaN                       3       3       3         3           3\n",
       "E   D                        14      14      14        14          14\n",
       "    M                       395     395     395       395         395\n",
       "    R                         4       4       4         4           4\n",
       "    S                        48      48      48        48          48\n",
       "    W                         9       9       9         9           9\n",
       "    NaN                       1       1       1         1           1"
      ]
     },
     "execution_count": 8,
     "metadata": {},
     "output_type": "execute_result"
    }
   ],
   "source": [
    "# Analyzing missing counts in MARITAL Status\n",
    "\n",
    "customer.groupby(['AGE', 'MARITAL_STATUS'], dropna = False).count()\n",
    "\n",
    "# Quick search shows that Age A group has disproportionate Marital Status\n",
    "# Imputing null data with the already existing attribute 'S'"
   ]
  },
  {
   "cell_type": "markdown",
   "id": "8ba18b88-7fba-4324-833d-392a9df59d79",
   "metadata": {},
   "source": [
    "## Data Cleansing"
   ]
  },
  {
   "cell_type": "code",
   "execution_count": 9,
   "id": "067caa95-89e2-4b62-b45e-f8b8eec3faeb",
   "metadata": {},
   "outputs": [
    {
     "name": "stdout",
     "output_type": "stream",
     "text": [
      "<class 'pandas.core.frame.DataFrame'>\n",
      "RangeIndex: 4017 entries, 0 to 4016\n",
      "Data columns (total 10 columns):\n",
      " #   Column          Non-Null Count  Dtype         \n",
      "---  ------          --------------  -----         \n",
      " 0   POLICY_NUMBER   4017 non-null   int64         \n",
      " 1   PLAN_CODE       4017 non-null   int64         \n",
      " 2   CLIENT_CODE     4017 non-null   int64         \n",
      " 3   SUM_ASSURED     4017 non-null   float64       \n",
      " 4   MODAL_PREMIUM   4017 non-null   int64         \n",
      " 5   ISSUE_DATE      4017 non-null   datetime64[ns]\n",
      " 6   TYPE            4017 non-null   object        \n",
      " 7   POLICY_STATUS   4017 non-null   object        \n",
      " 8   SURRENDER_DATE  33 non-null     datetime64[ns]\n",
      " 9   PAYMENT_MODE    4017 non-null   int64         \n",
      "dtypes: datetime64[ns](2), float64(1), int64(5), object(2)\n",
      "memory usage: 314.0+ KB\n",
      "None\n",
      "\n",
      "\n",
      "<class 'pandas.core.frame.DataFrame'>\n",
      "RangeIndex: 4013 entries, 0 to 4012\n",
      "Data columns (total 7 columns):\n",
      " #   Column          Non-Null Count  Dtype         \n",
      "---  ------          --------------  -----         \n",
      " 0   CLIENT_CODE     4013 non-null   int64         \n",
      " 1   AGE             4013 non-null   object        \n",
      " 2   MARITAL_STATUS  4013 non-null   object        \n",
      " 3   GENDER          4013 non-null   object        \n",
      " 4   INCOME          4013 non-null   int64         \n",
      " 5   POSTCODE        4013 non-null   int64         \n",
      " 6   LASTUPDATE      4013 non-null   datetime64[ns]\n",
      "dtypes: datetime64[ns](1), int64(3), object(3)\n",
      "memory usage: 219.6+ KB\n",
      "None\n"
     ]
    }
   ],
   "source": [
    "# Imputing null values with corresponding method\n",
    "\n",
    "# for SUM_ASSURED, median imputation since the data is right-skewed\n",
    "account['SUM_ASSURED'] = account['SUM_ASSURED'].fillna(account['SUM_ASSURED'].median())\n",
    "\n",
    "# for MARTIAL status, impute the missing data based on the results above with 'S'\n",
    "customer['MARITAL_STATUS'] = customer['MARITAL_STATUS'].fillna('S')\n",
    "\n",
    "# Re-printing to confirm the null checks on each table\n",
    "print(account.info())\n",
    "print('\\n')\n",
    "print(customer.info())"
   ]
  },
  {
   "cell_type": "code",
   "execution_count": 10,
   "id": "5cb9d9c9-1560-4baa-89a9-799a789fa3bc",
   "metadata": {},
   "outputs": [],
   "source": [
    "# Standardizing datetime data types to date only\n",
    "# To ensure the precision is only up to yyyy-mm-dd (where time isn't required, based on the analysis)\n",
    "\n",
    "account['ISSUE_DATE'] = pd.to_datetime(account['ISSUE_DATE']).dt.strftime('%Y-%m-%d')\n",
    "account['SURRENDER_DATE'] = pd.to_datetime(account['SURRENDER_DATE']).dt.strftime('%Y-%m-%d')\n",
    "\n",
    "customer['LASTUPDATE'] = pd.to_datetime(customer['LASTUPDATE']).dt.strftime('%Y-%m-%d')"
   ]
  },
  {
   "cell_type": "markdown",
   "id": "aa6c6a30-67ec-4b27-a02a-93e051253a91",
   "metadata": {},
   "source": [
    "## Data Analysis and Data Visualization"
   ]
  },
  {
   "cell_type": "markdown",
   "id": "db7b73f9-eb2b-4280-bd99-8260ffcdca36",
   "metadata": {},
   "source": [
    "### In account dataset"
   ]
  },
  {
   "cell_type": "code",
   "execution_count": 11,
   "id": "db317602-c299-4799-a075-ee4b7e84c7aa",
   "metadata": {},
   "outputs": [
    {
     "name": "stdout",
     "output_type": "stream",
     "text": [
      "1568734252.0750003\n"
     ]
    },
    {
     "data": {
      "image/png": "[encoded data removed]",
      "text/plain": [
       "<Figure size 720x432 with 1 Axes>"
      ]
     },
     "metadata": {
      "needs_background": "light"
     },
     "output_type": "display_data"
    }
   ],
   "source": [
    "# Total Sum Insured\n",
    "print(account['SUM_ASSURED'].sum())\n",
    "\n",
    "# Configure plot size\n",
    "fig = plt.figure(figsize = (10,6))\n",
    "\n",
    "# Select the data for the plot\n",
    "acc_ins = account[['TYPE', 'SUM_ASSURED']]\n",
    "\n",
    "# Group the 'TYPE' and total sum the 'SUM_ASSURED'\n",
    "acc_ins = acc_ins.groupby('TYPE')['SUM_ASSURED'].sum().reset_index()\n",
    "\n",
    "# Sort the grouped data in desceding order\n",
    "acc_ins = acc_ins.sort_values('SUM_ASSURED', ascending = False)\n",
    "\n",
    "# Bar Plot\n",
    "plt.bar(acc_ins['TYPE'], acc_ins['SUM_ASSURED'])\n",
    "\n",
    "# Customize the plot\n",
    "plt.title('Bar Plot - Sum Assured by Policy Type')\n",
    "plt.xlabel('Policy Type')\n",
    "plt.ylabel('Sum Assured')\n",
    "\n",
    "# Put labels to each bar\n",
    "\n",
    "for i, j in enumerate(acc_ins['SUM_ASSURED']):\n",
    "    plt.text(i, j, f'{j:,.0f}', ha = 'center', va = 'bottom')\n",
    "    \n",
    "# Display\n",
    "plt.show()\n",
    "\n",
    "## prelim. observations\n",
    "# About RM 1.5 bil of Sum ASsured\n",
    "# Type E has the highest amount of Sum Assured (RM 989 mil) in total\n",
    "# The differences between E and the rest of types of policies varied by the factor ranging from x4 to x10"
   ]
  },
  {
   "cell_type": "code",
   "execution_count": 12,
   "id": "e2ac6eca-0501-4f06-ad16-a5a804955ec8",
   "metadata": {},
   "outputs": [
    {
     "name": "stdout",
     "output_type": "stream",
     "text": [
      "6397254\n"
     ]
    },
    {
     "data": {
      "image/png": "[encoded data removed]",
      "text/plain": [
       "<Figure size 720x432 with 1 Axes>"
      ]
     },
     "metadata": {
      "needs_background": "light"
     },
     "output_type": "display_data"
    }
   ],
   "source": [
    "# Chargeable Premiums per insurance product (charge per insurance product)\n",
    "\n",
    "print(account['MODAL_PREMIUM'].sum())\n",
    "\n",
    "# Configure plot size\n",
    "fig = plt.figure(figsize = (10,6))\n",
    "\n",
    "# Select the data for the plot\n",
    "acc_modal = account[['TYPE', 'MODAL_PREMIUM']]\n",
    "\n",
    "# Group the 'TYPE' and total sum the 'MODAL_PREMIUM'\n",
    "acc_modal = acc_modal.groupby('TYPE')['MODAL_PREMIUM'].sum().reset_index()\n",
    "\n",
    "# Sort the grouped data in desceding order\n",
    "acc_modal = acc_modal.sort_values('MODAL_PREMIUM', ascending = False)\n",
    "\n",
    "# Bar Plot\n",
    "plt.bar(acc_modal['TYPE'], acc_modal['MODAL_PREMIUM'])\n",
    "\n",
    "# Customize the plot\n",
    "plt.title('Bar Plot - Premiums Paid by Policy Type')\n",
    "plt.xlabel('Policy Type')\n",
    "plt.ylabel('Modal Premium')\n",
    "\n",
    "# Put labels to each bar\n",
    "\n",
    "for i, j in enumerate(acc_modal['MODAL_PREMIUM']):\n",
    "    plt.text(i, j, f'{j:,.0f}', ha = 'center', va = 'bottom')\n",
    "    \n",
    "# Display\n",
    "plt.show()\n",
    "\n",
    "## prelim. \n",
    "# RM 6.3 million \n",
    "# Yet again, Type E has the highest amount of contributions paid (RM 3.9 mil) in total\n",
    "# The differences between E and the rest of types of policies skewed greatly, especially between D (x2) and between C (x218)"
   ]
  },
  {
   "cell_type": "code",
   "execution_count": 13,
   "id": "fd90ecd0-9605-4837-88c8-76682dca5e90",
   "metadata": {},
   "outputs": [
    {
     "name": "stdout",
     "output_type": "stream",
     "text": [
      "The correlation between the Premiums and the Total Insured:  -0.14%\n"
     ]
    }
   ],
   "source": [
    "# Correlation between the Premiums Paid per policy and the Sum Insured\n",
    "\n",
    "corr = account[\"MODAL_PREMIUM\"].corr(account[\"SUM_ASSURED\"])\n",
    "print(\"The correlation between the Premiums and the Total Insured: \", f\"{corr:.2%}\")\n",
    "\n",
    "# There is a negative correlation between the premiums paid per policy and the total insured to the client "
   ]
  },
  {
   "cell_type": "code",
   "execution_count": 14,
   "id": "02d2d6fe-0bf6-4c6b-903f-45681b944784",
   "metadata": {},
   "outputs": [
    {
     "name": "stdout",
     "output_type": "stream",
     "text": [
      "41497417\n"
     ]
    },
    {
     "name": "stderr",
     "output_type": "stream",
     "text": [
      "C:\\Users\\qayyim\\AppData\\Local\\Temp\\ipykernel_23192\\594258268.py:12: SettingWithCopyWarning: \n",
      "A value is trying to be set on a copy of a slice from a DataFrame.\n",
      "Try using .loc[row_indexer,col_indexer] = value instead\n",
      "\n",
      "See the caveats in the documentation: https://pandas.pydata.org/pandas-docs/stable/user_guide/indexing.html#returning-a-view-versus-a-copy\n",
      "  acc_premtot['TOTAL_PREMIUM'] = acc_premtot['MODAL_PREMIUM']*acc_premtot['PAYMENT_MODE']\n"
     ]
    },
    {
     "data": {
      "image/png": "[encoded data removed]",
      "text/plain": [
       "<Figure size 720x432 with 1 Axes>"
      ]
     },
     "metadata": {
      "needs_background": "light"
     },
     "output_type": "display_data"
    }
   ],
   "source": [
    "# Total Premiums Paid\n",
    "total_premiums = (account['MODAL_PREMIUM']*account['PAYMENT_MODE'])\n",
    "print(total_premiums.sum())\n",
    "\n",
    "# Configure plot size\n",
    "fig = plt.figure(figsize = (10,6))\n",
    "\n",
    "# Select the data for the plot\n",
    "acc_premtot = account[['TYPE', 'MODAL_PREMIUM', 'PAYMENT_MODE']]\n",
    "\n",
    "# Create new column to contain the total premiums paid\n",
    "acc_premtot['TOTAL_PREMIUM'] = acc_premtot['MODAL_PREMIUM']*acc_premtot['PAYMENT_MODE']\n",
    "\n",
    "# Group the 'TYPE' and total sum the 'MODAL_PREMIUM'\n",
    "acc_premtot = acc_premtot.groupby('TYPE')['TOTAL_PREMIUM'].sum().reset_index()\n",
    "\n",
    "# Sort the grouped data in desceding order\n",
    "acc_premtot = acc_premtot.sort_values('TOTAL_PREMIUM', ascending = False)\n",
    "\n",
    "# Bar Plot\n",
    "plt.bar(acc_premtot['TYPE'], acc_premtot['TOTAL_PREMIUM'])\n",
    "\n",
    "# Customize the plot\n",
    "plt.title('Bar Plot - Total Premiums Paid by Policy Type')\n",
    "plt.xlabel('Policy Type')\n",
    "plt.ylabel('Total Modal Premium')\n",
    "\n",
    "# Put labels to each bar\n",
    "\n",
    "for i, j in enumerate(acc_premtot['TOTAL_PREMIUM']):\n",
    "    plt.text(i, j, f'{j:,.0f}', ha = 'center', va = 'bottom')\n",
    "    \n",
    "# Display\n",
    "plt.show()\n",
    "\n",
    "## prelim. observations\n",
    "# Yet again, Type E has the highest amount of contributions paid, cumulatively (RM 26.9 mil) if extrapolating the numbers\n",
    "# The differences between E and the rest of types of policies skewed greatly, especially group C (x118)\n",
    "# Interestinly, Type D doesn't have total contributions since all of the them have the frequency payment is 0"
   ]
  },
  {
   "cell_type": "code",
   "execution_count": 15,
   "id": "d9dcb72e-834f-4ecb-847d-62622362da62",
   "metadata": {},
   "outputs": [
    {
     "data": {
      "text/plain": [
       "TYPE\n",
       "A      2\n",
       "E     13\n",
       "D    140\n",
       "Name: PAYMENT_MODE, dtype: int64"
      ]
     },
     "execution_count": 15,
     "metadata": {},
     "output_type": "execute_result"
    }
   ],
   "source": [
    "# Finding which Insurance type has payment mode with frequency of 0\n",
    "\n",
    "account[account['PAYMENT_MODE'] == 0].groupby('TYPE')['PAYMENT_MODE'].count().sort_values()\n",
    "\n",
    "# As expected, Type D does not have any frequency payment\n",
    "# This may have to do with the way how the product design specifically for certain clients (specialized policies)"
   ]
  },
  {
   "cell_type": "code",
   "execution_count": 16,
   "id": "d1557577-2b3b-403e-969a-2df739a64311",
   "metadata": {},
   "outputs": [
    {
     "data": {
      "text/plain": [
       "TYPE\n",
       "A    1398\n",
       "C       9\n",
       "D     140\n",
       "E    2470\n",
       "Name: POLICY_NUMBER, dtype: int64"
      ]
     },
     "execution_count": 16,
     "metadata": {},
     "output_type": "execute_result"
    }
   ],
   "source": [
    "# Exploring the number of clients (distinct) for each group\n",
    "# How many clients (distinct) have subscriptions?\n",
    "\n",
    "account.groupby('TYPE').POLICY_NUMBER.nunique()\n",
    "\n",
    "# Observed that product E and product A has more policies subscribed\n",
    "# Product C may have been for high-value or high net-worth clients\n",
    "# Product D, interestingly, shows that all of their clients have 0 payment frequency\n",
    "## This could mean that D has been designed in this way..."
   ]
  },
  {
   "cell_type": "code",
   "execution_count": 17,
   "id": "a8d6f068-93dc-4731-a17e-b94477db1277",
   "metadata": {},
   "outputs": [
    {
     "name": "stdout",
     "output_type": "stream",
     "text": [
      "The correlation between the Premiums and the Total Insured:  -54.04%\n"
     ]
    }
   ],
   "source": [
    "# Correlation between the Premiums Paid cumulatively and the Sum Insured\n",
    "\n",
    "corr = acc_premtot[\"TOTAL_PREMIUM\"].corr(account[\"SUM_ASSURED\"])\n",
    "print(\"The correlation between the Premiums and the Total Insured: \", f\"{corr:.2%}\")\n",
    "\n",
    "# There is a negative correlation between the premiums paid cumulatively and the total insured to the client "
   ]
  },
  {
   "cell_type": "code",
   "execution_count": 28,
   "id": "f91c00d9-31ca-48ad-81d9-607977ef615e",
   "metadata": {},
   "outputs": [
    {
     "data": {
      "image/png": "[encoded data removed]",
      "text/plain": [
       "<Figure size 720x432 with 1 Axes>"
      ]
     },
     "metadata": {
      "needs_background": "light"
     },
     "output_type": "display_data"
    }
   ],
   "source": [
    "# Histogram for SUM_ASSURED\n",
    "acc_ins = account[\"SUM_ASSURED\"]\n",
    "\n",
    "# Configure plot size\n",
    "fig , ax = plt.subplots(figsize = (10,6))\n",
    "\n",
    "# Define bins size\n",
    "n_bins = 50\n",
    "\n",
    "# Histogram\n",
    "plot, bins, align = ax.hist(acc_ins, bins = n_bins, align = 'right')\n",
    "\n",
    "# Calculate the maximum value and the interval\n",
    "max_value = acc_ins.max() # or use data.max() if you want to use the actual maximum of your data\n",
    "interval = max_value / n_bins\n",
    "\n",
    "# Create bins\n",
    "bins = np.arange(0, max_value + interval, interval)\n",
    "\n",
    "# Set the x-ticks to be at the start of each bin\n",
    "ax.set_xticks(bins)\n",
    "\n",
    "# Optionally, rotate x-axis labels for better readability\n",
    "plt.xticks(rotation=90, ha='right')\n",
    "\n",
    "# Customize the plot\n",
    "ax.set_title('Histogram - Sum Assured', fontsize=16)\n",
    "ax.set_xlabel('Sum Assured', fontsize=12)\n",
    "ax.set_ylabel('Frequency', fontsize=12)\n",
    "\n",
    "# Add gridlines for better readability\n",
    "ax.grid(True, linestyle='--', alpha=0.7)\n",
    "\n",
    "# Adjust layout to prevent clipping of labels\n",
    "plt.tight_layout()\n",
    "\n",
    "\n",
    "plt.show()\n",
    "\n",
    "## prelim. observations\n",
    "# The Accout data have shown that the Income data is a right-skewed\n",
    "# Based on the data, most of the clients have the sum assured to be a total of below or equal to RM 125k\n",
    "# However, due to small portion of the clients whose Sum Assured are higher, which causes the mean to be higher at RM 391k"
   ]
  },
  {
   "cell_type": "code",
   "execution_count": 19,
   "id": "90425c73-a4ee-4085-9d72-fad24ff79350",
   "metadata": {},
   "outputs": [
    {
     "name": "stdout",
     "output_type": "stream",
     "text": [
      "35.34890697010317\n",
      "1404.2937579392024\n"
     ]
    }
   ],
   "source": [
    "# Calculate skewness and kurtosis of the col SUM_ASSURED\n",
    "print(skew(account[\"SUM_ASSURED\"], axis = 0, bias = True))\n",
    "print(kurtosis(account[\"SUM_ASSURED\"], axis = 0, bias = True))\n",
    "\n",
    "## prelim. observations\n",
    "# The skewness is high, therefore it confirms that there are more weight to the left tail, signifying majority of the clients are assured at this left tail of the distribution\n",
    "# THe kurtosis is also high, therefore it confirms that there are outliers in the dataset\n"
   ]
  },
  {
   "cell_type": "code",
   "execution_count": 29,
   "id": "391606a2-762a-44b5-b10f-a3eb5d83ca06",
   "metadata": {},
   "outputs": [
    {
     "data": {
      "image/png": "[encoded data removed]",
      "text/plain": [
       "<Figure size 720x432 with 1 Axes>"
      ]
     },
     "metadata": {
      "needs_background": "light"
     },
     "output_type": "display_data"
    }
   ],
   "source": [
    "# Histogram for MODAL_PREMIUMS\n",
    "acc_mod = account[\"MODAL_PREMIUM\"]\n",
    "\n",
    "# Configure plot size\n",
    "fig , ax = plt.subplots(figsize = (10,6))\n",
    "\n",
    "# Define bins size\n",
    "n_bins = 50\n",
    "\n",
    "# Histogram\n",
    "plot, bins, align = ax.hist(acc_mod, bins = n_bins, align = 'right')\n",
    "\n",
    "# Optionally, rotate x-axis labels for better readability\n",
    "plt.xticks(rotation=90, ha='right')\n",
    "\n",
    "# Customize the plot\n",
    "ax.set_title('Histogram - Modal Premiums', fontsize=16)\n",
    "ax.set_xlabel('Modal Premiums', fontsize=12)\n",
    "ax.set_ylabel('Frequency', fontsize=12)\n",
    "\n",
    "# Add gridlines for better readability\n",
    "ax.grid(True, linestyle='--', alpha=0.7)\n",
    "\n",
    "# Adjust layout to prevent clipping of labels\n",
    "plt.tight_layout()\n",
    "\n",
    "\n",
    "plt.show()\n",
    "\n",
    "## prelim. observations\n",
    "# The shape of the distribution is observed to be almost uniform\n",
    "# This means that clients here paid premiums to the company using standardized pricing model\n",
    "# But this means there are \"imbalance\" or \"disparity\" between premiums and total assured\n",
    "# Which could suggests that some clients have speciliazed or tailored plans\n",
    "# Or it could also suggests that the clients are charged similarly for some products (probably Product E and Product A)"
   ]
  },
  {
   "cell_type": "code",
   "execution_count": 30,
   "id": "03ab69ff-888f-409a-a697-3345ff6cf6dc",
   "metadata": {},
   "outputs": [
    {
     "name": "stdout",
     "output_type": "stream",
     "text": [
      "0.00410462432051801\n",
      "-1.210775623126591\n"
     ]
    }
   ],
   "source": [
    "# Calculate skewness and kurtosis of the col MODAL_PREMIUM\n",
    "print(skew(account[\"MODAL_PREMIUM\"], axis = 0, bias = True))\n",
    "print(kurtosis(account[\"MODAL_PREMIUM\"], axis = 0, bias = True))\n",
    "\n",
    "## prelim. observations\n",
    "# The skewness is high, therefore it confirms that there are more weight to the left tail, signifying majority of the clients are assured at this left tail of the distribution\n",
    "# THe kurtosis is also high but leaning towards flatter top, therefore it confirms that there are outliers in the dataset\n"
   ]
  },
  {
   "cell_type": "code",
   "execution_count": 32,
   "id": "899c3ff4-d7c6-47d0-b710-65dd2824172f",
   "metadata": {},
   "outputs": [
    {
     "data": {
      "image/png": "[encoded data removed]",
      "text/plain": [
       "<Figure size 720x432 with 1 Axes>"
      ]
     },
     "metadata": {
      "needs_background": "light"
     },
     "output_type": "display_data"
    }
   ],
   "source": [
    "# Histogram for MODAL_PREMIUMS cumulatively\n",
    "acc_mod = account[\"MODAL_PREMIUM\"] * account[\"PAYMENT_MODE\"]\n",
    "\n",
    "# Configure plot size\n",
    "fig , ax = plt.subplots(figsize = (10,6))\n",
    "\n",
    "# Define bins size\n",
    "n_bins = 50\n",
    "\n",
    "# Histogram\n",
    "plot, bins, align = ax.hist(acc_mod, bins = n_bins, align = 'right')\n",
    "\n",
    "# Optionally, rotate x-axis labels for better readability\n",
    "plt.xticks(rotation=90, ha='right')\n",
    "\n",
    "# Customize the plot\n",
    "ax.set_title('Histogram - Total Premiums Paid', fontsize=16)\n",
    "ax.set_xlabel('Total Premiums Paid', fontsize=12)\n",
    "ax.set_ylabel('Frequency', fontsize=12)\n",
    "\n",
    "# Add gridlines for better readability\n",
    "ax.grid(True, linestyle='--', alpha=0.7)\n",
    "\n",
    "# Adjust layout to prevent clipping of labels\n",
    "plt.tight_layout()\n",
    "\n",
    "\n",
    "plt.show()\n",
    "\n",
    "## prelim. observations\n",
    "# The shape of the distribution is observed to highly right skewed\n",
    "# This means not all clients paid with the same amount of frequencies\n",
    "# This could have an effect on the potential premiums paid out to the company"
   ]
  },
  {
   "cell_type": "code",
   "execution_count": 23,
   "id": "0b299b79-c960-4557-87ae-b2450388e474",
   "metadata": {},
   "outputs": [
    {
     "name": "stdout",
     "output_type": "stream",
     "text": [
      "0.8975776624421182\n",
      "-0.6125097737742786\n"
     ]
    }
   ],
   "source": [
    "# Calculate skewness and kurtosis of the col MODAL_PREMIUM x PAYMENT_MODE\n",
    "print(skew(account[\"MODAL_PREMIUM\"] * account['PAYMENT_MODE'], axis = 0, bias = True))\n",
    "print(kurtosis(account[\"MODAL_PREMIUM\"] * account['PAYMENT_MODE'], axis = 0, bias = True))\n",
    "\n",
    "## prelim. observations\n",
    "# The skewness is high, therefore it confirms that there are more weight to the left tail, signifying majority of the clients are assured at this left tail of the distribution\n",
    "# THe kurtosis is also high (compared to the premiums paid per policy), therefore it confirms that there are outliers in the dataset\n"
   ]
  },
  {
   "cell_type": "code",
   "execution_count": 24,
   "id": "71cd4bef-0e3a-4235-b07f-21a9f7660f20",
   "metadata": {},
   "outputs": [
    {
     "data": {
      "image/png": "[encoded data removed]",
      "text/plain": [
       "<Figure size 720x432 with 1 Axes>"
      ]
     },
     "metadata": {},
     "output_type": "display_data"
    }
   ],
   "source": [
    "# Policy Status Proportion\n",
    "acc_polstat = account.groupby('POLICY_STATUS')['POLICY_STATUS'].count()\n",
    "\n",
    "# Sort the values from highest to lowest count\n",
    "acc_polstat.sort_values(ascending = False)\n",
    "\n",
    "# Extract the labels to list\n",
    "status_labels = acc_polstat.index.tolist()\n",
    "\n",
    "# Extract the values as array\n",
    "status_values = acc_polstat.values\n",
    "\n",
    "# Configure the subplots\n",
    "fig, ax =plt.subplots(figsize = (10,6), facecolor = 'white')\n",
    "\n",
    "# Plot the Pie Chart\n",
    "wedges, autotexts = ax.pie(status_values, startangle = 140)\n",
    "\n",
    "# Plot the legend\n",
    "ax.legend(wedges, status_labels, title = 'Policy Status', loc = 'center left' , bbox_to_anchor = (1, 0, 0.5, 1))\n",
    "\n",
    "# Customize the plot\n",
    "plt.title('Pie Chart - Policy Status Count')\n",
    "\n",
    "# Display the plot\n",
    "plt.show()"
   ]
  },
  {
   "cell_type": "code",
   "execution_count": 25,
   "id": "9eeff4e2-f0d3-4b16-a159-4f15c520fff6",
   "metadata": {},
   "outputs": [
    {
     "data": {
      "text/html": [
       "<div>\n",
       "<style scoped>\n",
       "    .dataframe tbody tr th:only-of-type {\n",
       "        vertical-align: middle;\n",
       "    }\n",
       "\n",
       "    .dataframe tbody tr th {\n",
       "        vertical-align: top;\n",
       "    }\n",
       "\n",
       "    .dataframe thead th {\n",
       "        text-align: right;\n",
       "    }\n",
       "</style>\n",
       "<table border=\"1\" class=\"dataframe\">\n",
       "  <thead>\n",
       "    <tr style=\"text-align: right;\">\n",
       "      <th></th>\n",
       "      <th>Count</th>\n",
       "      <th>Percent (%)</th>\n",
       "    </tr>\n",
       "    <tr>\n",
       "      <th>POLICY_STATUS</th>\n",
       "      <th></th>\n",
       "      <th></th>\n",
       "    </tr>\n",
       "  </thead>\n",
       "  <tbody>\n",
       "    <tr>\n",
       "      <th>IN-FORCE</th>\n",
       "      <td>3581</td>\n",
       "      <td>89.15</td>\n",
       "    </tr>\n",
       "    <tr>\n",
       "      <th>LAPSE</th>\n",
       "      <td>309</td>\n",
       "      <td>7.69</td>\n",
       "    </tr>\n",
       "    <tr>\n",
       "      <th>CANCELED DURING COOLING OFF PERIOD</th>\n",
       "      <td>87</td>\n",
       "      <td>2.17</td>\n",
       "    </tr>\n",
       "    <tr>\n",
       "      <th>SURRENDERED</th>\n",
       "      <td>33</td>\n",
       "      <td>0.82</td>\n",
       "    </tr>\n",
       "    <tr>\n",
       "      <th>EXPIRED</th>\n",
       "      <td>2</td>\n",
       "      <td>0.05</td>\n",
       "    </tr>\n",
       "    <tr>\n",
       "      <th>TERMINATED(PR)</th>\n",
       "      <td>2</td>\n",
       "      <td>0.05</td>\n",
       "    </tr>\n",
       "    <tr>\n",
       "      <th>AUTO SURRENDER</th>\n",
       "      <td>1</td>\n",
       "      <td>0.02</td>\n",
       "    </tr>\n",
       "    <tr>\n",
       "      <th>DEATH</th>\n",
       "      <td>1</td>\n",
       "      <td>0.02</td>\n",
       "    </tr>\n",
       "    <tr>\n",
       "      <th>NON DISCLOSURE CANCELLATION</th>\n",
       "      <td>1</td>\n",
       "      <td>0.02</td>\n",
       "    </tr>\n",
       "  </tbody>\n",
       "</table>\n",
       "</div>"
      ],
      "text/plain": [
       "                                    Count  Percent (%)\n",
       "POLICY_STATUS                                         \n",
       "IN-FORCE                             3581        89.15\n",
       "LAPSE                                 309         7.69\n",
       "CANCELED DURING COOLING OFF PERIOD     87         2.17\n",
       "SURRENDERED                            33         0.82\n",
       "EXPIRED                                 2         0.05\n",
       "TERMINATED(PR)                          2         0.05\n",
       "AUTO SURRENDER                          1         0.02\n",
       "DEATH                                   1         0.02\n",
       "NON DISCLOSURE CANCELLATION             1         0.02"
      ]
     },
     "execution_count": 25,
     "metadata": {},
     "output_type": "execute_result"
    }
   ],
   "source": [
    "# Table summary for % count for each policy status\n",
    "# Calculate the total number of policies\n",
    "total_policies = acc_polstat.sum()\n",
    "\n",
    "# Create a new DataFrame with counts and percentages\n",
    "df_policy_status = pd.DataFrame({\n",
    "    'Count': acc_polstat,\n",
    "    'Percent (%)': (acc_polstat / total_policies * 100).round(2)\n",
    "})\n",
    "\n",
    "df_policy_status.sort_values('Count', ascending = False)\n",
    "\n",
    "## prelim. observations\n",
    "# As expected, policies that are currently enforced compromises 89.15% of the dataset\n",
    "# There are, of course, few outliers that contributed to anything except \"IN-FORCE\" such as policies expried, terminated, auto surrender, non disclosure and even death"
   ]
  },
  {
   "cell_type": "code",
   "execution_count": 26,
   "id": "9fc11014-827d-4306-9eec-37803b61aaa5",
   "metadata": {},
   "outputs": [
    {
     "data": {
      "image/png": "[encoded data removed]",
      "text/plain": [
       "<Figure size 720x432 with 1 Axes>"
      ]
     },
     "metadata": {
      "needs_background": "light"
     },
     "output_type": "display_data"
    }
   ],
   "source": [
    "# Frequency for Payment Modes\n",
    "acc_mode = account[[\"PAYMENT_MODE\"]]\n",
    "\n",
    "# Count the frequency by grouping the column\n",
    "acc_count = acc_mode.groupby('PAYMENT_MODE')['PAYMENT_MODE'].count()\n",
    "\n",
    "# Re-create new dataframe\n",
    "acc_count = pd.DataFrame({\"Payment Mode\": acc_count.index, \"Count\":acc_count.values})\n",
    "\n",
    "# Sort the values\n",
    "acc_count = acc_count.sort_values('Count', ascending = False)\n",
    "\n",
    "# Change dataframe to list\n",
    "mode = acc_count['Payment Mode'].to_list()\n",
    "count = acc_count['Count'].to_list()\n",
    "\n",
    "\n",
    "\n",
    "# Configure plot size\n",
    "fig, ax = plt.subplots(figsize=(10, 6))\n",
    "\n",
    "# Create the bar plot\n",
    "bars = ax.bar(range(len(mode)), count)\n",
    "\n",
    "# Set x-axis ticks and labels\n",
    "ax.set_xticks(range(len(mode)))\n",
    "ax.set_xticklabels(mode)\n",
    "\n",
    "# Customize the plot\n",
    "ax.set_title('Bar Chart - Frequency Count for the Payment Mode', fontsize=16)\n",
    "ax.set_xlabel('Payment Mode', fontsize=12)\n",
    "ax.set_ylabel('Count', fontsize=12)\n",
    "\n",
    "# Adjust layout to prevent clipping of labels\n",
    "plt.tight_layout()\n",
    "\n",
    "# Display\n",
    "plt.show()\n",
    "\n",
    "## prelim. observations\n",
    "# It can observed that Payment 12 and 1 are the most frequent types of payment\n",
    "# The extreme end of the groups were 0, 6 and 3 which are very miniscule compared to 12 and 1"
   ]
  },
  {
   "cell_type": "markdown",
   "id": "96cb5404-b466-4a56-8237-008de2d7d5cf",
   "metadata": {},
   "source": [
    "### In Customer - Latest dataset"
   ]
  },
  {
   "cell_type": "code",
   "execution_count": 27,
   "id": "10a9f290-5183-4c75-8990-2a625694552b",
   "metadata": {},
   "outputs": [
    {
     "data": {
      "image/png": "[encoded data removed]",
      "text/plain": [
       "<Figure size 720x432 with 1 Axes>"
      ]
     },
     "metadata": {
      "needs_background": "light"
     },
     "output_type": "display_data"
    }
   ],
   "source": [
    "# Frequency for Age Groups\n",
    "cust_age = customer[[\"AGE\"]]\n",
    "\n",
    "# Count the frequency by grouping the column\n",
    "cust_age = cust_age.groupby('AGE')['AGE'].count()\n",
    "\n",
    "# Re-create new dataframe\n",
    "cust_age = pd.DataFrame({\"Age\": cust_age.index, \"Count\":cust_age.values})\n",
    "\n",
    "# Sort the values\n",
    "cust_age = cust_age.sort_values('Count', ascending = False)\n",
    "\n",
    "# Change dataframe to list\n",
    "mode = cust_age['Age'].to_list()\n",
    "count = cust_age['Count'].to_list()\n",
    "\n",
    "# Configure plot size\n",
    "fig, ax = plt.subplots(figsize=(10, 6))\n",
    "\n",
    "# Create the bar plot\n",
    "bars = ax.bar(range(len(mode)), count)\n",
    "\n",
    "# Set x-axis ticks and labels\n",
    "ax.set_xticks(range(len(mode)))\n",
    "ax.set_xticklabels(mode)\n",
    "\n",
    "# Customize the plot\n",
    "ax.set_title('Bar Chart - Frequency Count for Age Groups', fontsize=16)\n",
    "ax.set_xlabel('Age Groups', fontsize=12)\n",
    "ax.set_ylabel('Count', fontsize=12)\n",
    "\n",
    "# Adjust layout to prevent clipping of labels\n",
    "plt.tight_layout()\n",
    "\n",
    "# Display\n",
    "plt.show()\n",
    "\n",
    "## prelim. observations\n",
    "# It could be assumed that these categories have been designated with arbitrary labels\n",
    "# B, C, D were one of the most frequency age groups count, followed by E\n",
    "# A is considered as an outlier"
   ]
  },
  {
   "cell_type": "code",
   "execution_count": 28,
   "id": "2893e385-b093-405b-aef9-01691879fce8",
   "metadata": {},
   "outputs": [
    {
     "data": {
      "image/png": "[encoded data removed]",
      "text/plain": [
       "<Figure size 720x432 with 1 Axes>"
      ]
     },
     "metadata": {},
     "output_type": "display_data"
    }
   ],
   "source": [
    "# Genders Proportion\n",
    "cust_gender = customer.groupby('GENDER')['GENDER'].count()\n",
    "\n",
    "# Sort the values from highest to lowest count\n",
    "cust_gender.sort_values(ascending = False)\n",
    "\n",
    "# Extract the labels to list\n",
    "status_labels = cust_gender.index.tolist()\n",
    "\n",
    "# Extract the values as array\n",
    "status_values = cust_gender.values\n",
    "\n",
    "# Configure the subplots\n",
    "fig, ax =plt.subplots(figsize = (10,6), facecolor = 'white')\n",
    "\n",
    "# Plot the Pie Chart\n",
    "wedges, autotexts = ax.pie(status_values, startangle = 90)\n",
    "\n",
    "# Plot the legend\n",
    "ax.legend(wedges, status_labels, title = 'Gender', loc = 'center left' , bbox_to_anchor = (1, 0, 0.5, 1))\n",
    "\n",
    "# Customize the plot\n",
    "plt.title('Pie Chart - Gender')\n",
    "\n",
    "# Display the plot\n",
    "plt.show()"
   ]
  },
  {
   "cell_type": "code",
   "execution_count": 29,
   "id": "c697c821-4ed3-49f0-bca2-e24733d60af3",
   "metadata": {},
   "outputs": [
    {
     "data": {
      "text/html": [
       "<div>\n",
       "<style scoped>\n",
       "    .dataframe tbody tr th:only-of-type {\n",
       "        vertical-align: middle;\n",
       "    }\n",
       "\n",
       "    .dataframe tbody tr th {\n",
       "        vertical-align: top;\n",
       "    }\n",
       "\n",
       "    .dataframe thead th {\n",
       "        text-align: right;\n",
       "    }\n",
       "</style>\n",
       "<table border=\"1\" class=\"dataframe\">\n",
       "  <thead>\n",
       "    <tr style=\"text-align: right;\">\n",
       "      <th></th>\n",
       "      <th>Count</th>\n",
       "      <th>Percent (%)</th>\n",
       "    </tr>\n",
       "    <tr>\n",
       "      <th>GENDER</th>\n",
       "      <th></th>\n",
       "      <th></th>\n",
       "    </tr>\n",
       "  </thead>\n",
       "  <tbody>\n",
       "    <tr>\n",
       "      <th>M</th>\n",
       "      <td>2046</td>\n",
       "      <td>50.98</td>\n",
       "    </tr>\n",
       "    <tr>\n",
       "      <th>F</th>\n",
       "      <td>1967</td>\n",
       "      <td>49.02</td>\n",
       "    </tr>\n",
       "  </tbody>\n",
       "</table>\n",
       "</div>"
      ],
      "text/plain": [
       "        Count  Percent (%)\n",
       "GENDER                    \n",
       "M        2046        50.98\n",
       "F        1967        49.02"
      ]
     },
     "execution_count": 29,
     "metadata": {},
     "output_type": "execute_result"
    }
   ],
   "source": [
    "# Table summary for % count for each policy status\n",
    "# Calculate the total number of policies\n",
    "total = cust_gender.sum()\n",
    "\n",
    "# Create a new DataFrame with counts and percentages\n",
    "df_gender = pd.DataFrame({\n",
    "    'Count': cust_gender,\n",
    "    'Percent (%)': (cust_gender / total * 100).round(2)\n",
    "})\n",
    "\n",
    "df_gender.sort_values('Count', ascending = False)\n",
    "\n",
    "## prelim. observations\n",
    "# Majority of the clients were Male (51.4%) while the rest are Females (48.5%)\n"
   ]
  },
  {
   "cell_type": "code",
   "execution_count": 30,
   "id": "2cee3ffb-1f95-4b05-bae4-6571dd55f09a",
   "metadata": {},
   "outputs": [
    {
     "data": {
      "image/png": "[encoded data removed]",
      "text/plain": [
       "<Figure size 720x432 with 1 Axes>"
      ]
     },
     "metadata": {
      "needs_background": "light"
     },
     "output_type": "display_data"
    }
   ],
   "source": [
    "# Frequency for Marital Status\n",
    "cust_stat = customer[[\"MARITAL_STATUS\"]]\n",
    "\n",
    "# Count the frequency by grouping the column\n",
    "cust_stat = cust_stat.groupby('MARITAL_STATUS')['MARITAL_STATUS'].count()\n",
    "\n",
    "# Re-create new dataframe\n",
    "cust_stat = pd.DataFrame({\"Marital Status\": cust_stat.index, \"Count\":cust_stat.values})\n",
    "\n",
    "# Sort the values\n",
    "cust_stat = cust_stat.sort_values('Count', ascending = False)\n",
    "\n",
    "# Change dataframe to list\n",
    "mode = cust_stat['Marital Status'].to_list()\n",
    "count = cust_stat['Count'].to_list()\n",
    "\n",
    "# Configure plot size\n",
    "fig, ax = plt.subplots(figsize=(10, 6))\n",
    "\n",
    "# Create the bar plot\n",
    "bars = ax.bar(range(len(mode)), count)\n",
    "\n",
    "# Set x-axis ticks and labels\n",
    "ax.set_xticks(range(len(mode)))\n",
    "ax.set_xticklabels(mode)\n",
    "\n",
    "# Customize the plot\n",
    "ax.set_title('Bar Chart - Frequency Count for Martial Status', fontsize=16)\n",
    "ax.set_xlabel('Martial Status', fontsize=12)\n",
    "ax.set_ylabel('Count', fontsize=12)\n",
    "\n",
    "# Adjust layout to prevent clipping of labels\n",
    "plt.tight_layout()\n",
    "\n",
    "# Display\n",
    "plt.show()\n",
    "\n",
    "## prelim. observations\n",
    "# M were the most prominent groups, followed by Singles\n",
    "# D and W were on the 'lower' end\n",
    "# R is the lowest amongst all"
   ]
  },
  {
   "cell_type": "code",
   "execution_count": 31,
   "id": "a2c02201-0caf-40f4-aad0-c8d9fc9fd4b8",
   "metadata": {},
   "outputs": [
    {
     "data": {
      "image/png": "[encoded data removed]",
      "text/plain": [
       "<Figure size 720x432 with 1 Axes>"
      ]
     },
     "metadata": {
      "needs_background": "light"
     },
     "output_type": "display_data"
    }
   ],
   "source": [
    "# Histogram for income group\n",
    "cust_inc = customer[\"INCOME\"]\n",
    "\n",
    "# Configure plot size\n",
    "fig , ax = plt.subplots(figsize = (10,6))\n",
    "\n",
    "# Define bins size\n",
    "n_bins = 50\n",
    "\n",
    "# Histogram\n",
    "plot, bins, align = ax.hist(cust_inc, bins = n_bins, align = 'right')\n",
    "\n",
    "# Calculate the maximum value and the interval\n",
    "max_value = cust_inc.max() # or use data.max() if you want to use the actual maximum of your data\n",
    "interval = max_value / n_bins\n",
    "\n",
    "# Create bins\n",
    "bins = np.arange(0, max_value + interval, interval)\n",
    "\n",
    "# Set the x-ticks to be at the start of each bin\n",
    "ax.set_xticks(bins)\n",
    "\n",
    "# Optionally, rotate x-axis labels for better readability\n",
    "plt.xticks(rotation=90, ha='right')\n",
    "\n",
    "# Customize the plot\n",
    "ax.set_title('Histogram - Income', fontsize=16)\n",
    "ax.set_xlabel('Income', fontsize=12)\n",
    "ax.set_ylabel('Frequency', fontsize=12)\n",
    "\n",
    "# Add gridlines for better readability\n",
    "ax.grid(True, linestyle='--', alpha=0.7)\n",
    "\n",
    "# Adjust layout to prevent clipping of labels\n",
    "plt.tight_layout()\n",
    "\n",
    "\n",
    "plt.show()\n",
    "\n",
    "## prelim. observations\n",
    "# The Customer data have shown that the Income data is a right-skewed as pointed out earlier\n",
    "# Based on the data too, most of the clients have the income of below or equal to RM 60,000\n",
    "# However, small portion of  clients have incomes on the upper quartile, causing the mean RM 105,889 higher than the median"
   ]
  },
  {
   "cell_type": "code",
   "execution_count": 32,
   "id": "0c6adf46-a48a-4de2-b067-ae255039c26f",
   "metadata": {},
   "outputs": [
    {
     "data": {
      "image/png": "[encoded data removed]",
      "text/plain": [
       "<Figure size 864x1080 with 3 Axes>"
      ]
     },
     "metadata": {
      "needs_background": "light"
     },
     "output_type": "display_data"
    }
   ],
   "source": [
    "# Income Distribution by Age, Gender and Marital Status\n",
    "\n",
    "# Create a figure with 3 subplots arranged horizontally\n",
    "fig, (ax1, ax2, ax3) = plt.subplots(3, 1, figsize=(12, 15))\n",
    "\n",
    "# Plot 1: AGE vs INCOME\n",
    "sns.boxplot(data=customer, x='AGE', y='INCOME', ax=ax1)\n",
    "ax1.set_title('Income Distribution by Age')\n",
    "ax1.set_yscale('log')\n",
    "\n",
    "# Plot 2: GENDER vs INCOME\n",
    "sns.boxplot(data=customer, x='GENDER', y='INCOME', ax=ax2, width = 0.3)\n",
    "ax2.set_title('Income Distribution by Gender')\n",
    "\n",
    "# Plot 3: MARITAL_STATUS vs INCOME\n",
    "sns.boxplot(data=customer, x='MARITAL_STATUS', y='INCOME', ax=ax3, width = 0.5)\n",
    "ax3.set_title('Income Distribution by Marital Status')\n",
    "ax3.set_yscale('log')\n",
    "\n",
    "# Adjust the layout and add a main title\n",
    "plt.tight_layout()\n",
    "fig.suptitle('Income Distribution Analysis', fontsize=16, y=1.02)\n",
    "\n",
    "# Show the plot\n",
    "plt.show()\n",
    "\n",
    "## prelim. observations\n",
    "## AGE profile\n",
    "# The income distribution for each AGE group shows similar distribution, where the median is the same\n",
    "# Age Group A weren't included in the income distribution, which confirms they are either children, or non working adolescent\n",
    "\n",
    "## Gender\n",
    "# Similar distribution\n",
    "# Pie Chart also confirms the % weightage between the two Genders\n",
    "\n",
    "# Marital Status\n",
    "# The median < mean across all marital status group\n",
    "# Which means there are subset of clients in each of these group earning higher, which causes the mean to be higher as well"
   ]
  },
  {
   "cell_type": "code",
   "execution_count": 33,
   "id": "51bb21c9-44ec-44d8-b09b-615de36feb75",
   "metadata": {},
   "outputs": [
    {
     "data": {
      "text/html": [
       "<div>\n",
       "<style scoped>\n",
       "    .dataframe tbody tr th:only-of-type {\n",
       "        vertical-align: middle;\n",
       "    }\n",
       "\n",
       "    .dataframe tbody tr th {\n",
       "        vertical-align: top;\n",
       "    }\n",
       "\n",
       "    .dataframe thead th {\n",
       "        text-align: right;\n",
       "    }\n",
       "</style>\n",
       "<table border=\"1\" class=\"dataframe\">\n",
       "  <thead>\n",
       "    <tr style=\"text-align: right;\">\n",
       "      <th></th>\n",
       "      <th>count</th>\n",
       "      <th>mean</th>\n",
       "      <th>std</th>\n",
       "      <th>min</th>\n",
       "      <th>25%</th>\n",
       "      <th>50%</th>\n",
       "      <th>75%</th>\n",
       "      <th>max</th>\n",
       "    </tr>\n",
       "    <tr>\n",
       "      <th>MARITAL_STATUS</th>\n",
       "      <th></th>\n",
       "      <th></th>\n",
       "      <th></th>\n",
       "      <th></th>\n",
       "      <th></th>\n",
       "      <th></th>\n",
       "      <th></th>\n",
       "      <th></th>\n",
       "    </tr>\n",
       "  </thead>\n",
       "  <tbody>\n",
       "    <tr>\n",
       "      <th>D</th>\n",
       "      <td>80.0</td>\n",
       "      <td>105025.000000</td>\n",
       "      <td>104773.169698</td>\n",
       "      <td>36000.0</td>\n",
       "      <td>48000.0</td>\n",
       "      <td>72000.0</td>\n",
       "      <td>108000.0</td>\n",
       "      <td>500000.0</td>\n",
       "    </tr>\n",
       "    <tr>\n",
       "      <th>M</th>\n",
       "      <td>2206.0</td>\n",
       "      <td>108185.856754</td>\n",
       "      <td>117107.481687</td>\n",
       "      <td>36000.0</td>\n",
       "      <td>48000.0</td>\n",
       "      <td>60000.0</td>\n",
       "      <td>108000.0</td>\n",
       "      <td>500000.0</td>\n",
       "    </tr>\n",
       "    <tr>\n",
       "      <th>R</th>\n",
       "      <td>9.0</td>\n",
       "      <td>120000.000000</td>\n",
       "      <td>146082.168659</td>\n",
       "      <td>36000.0</td>\n",
       "      <td>48000.0</td>\n",
       "      <td>84000.0</td>\n",
       "      <td>108000.0</td>\n",
       "      <td>500000.0</td>\n",
       "    </tr>\n",
       "    <tr>\n",
       "      <th>S</th>\n",
       "      <td>1688.0</td>\n",
       "      <td>102550.947867</td>\n",
       "      <td>123898.584688</td>\n",
       "      <td>0.0</td>\n",
       "      <td>48000.0</td>\n",
       "      <td>60000.0</td>\n",
       "      <td>100000.0</td>\n",
       "      <td>500000.0</td>\n",
       "    </tr>\n",
       "    <tr>\n",
       "      <th>W</th>\n",
       "      <td>30.0</td>\n",
       "      <td>124266.666667</td>\n",
       "      <td>141489.352185</td>\n",
       "      <td>36000.0</td>\n",
       "      <td>48000.0</td>\n",
       "      <td>60000.0</td>\n",
       "      <td>117000.0</td>\n",
       "      <td>500000.0</td>\n",
       "    </tr>\n",
       "  </tbody>\n",
       "</table>\n",
       "</div>"
      ],
      "text/plain": [
       "                 count           mean            std      min      25%  \\\n",
       "MARITAL_STATUS                                                           \n",
       "D                 80.0  105025.000000  104773.169698  36000.0  48000.0   \n",
       "M               2206.0  108185.856754  117107.481687  36000.0  48000.0   \n",
       "R                  9.0  120000.000000  146082.168659  36000.0  48000.0   \n",
       "S               1688.0  102550.947867  123898.584688      0.0  48000.0   \n",
       "W                 30.0  124266.666667  141489.352185  36000.0  48000.0   \n",
       "\n",
       "                    50%       75%       max  \n",
       "MARITAL_STATUS                               \n",
       "D               72000.0  108000.0  500000.0  \n",
       "M               60000.0  108000.0  500000.0  \n",
       "R               84000.0  108000.0  500000.0  \n",
       "S               60000.0  100000.0  500000.0  \n",
       "W               60000.0  117000.0  500000.0  "
      ]
     },
     "execution_count": 33,
     "metadata": {},
     "output_type": "execute_result"
    }
   ],
   "source": [
    "customer.groupby(['MARITAL_STATUS'])['INCOME'].describe()\n",
    "\n",
    "# Although the sampling populations are unequal, the standard deviations for each groups varies in the factor of 10^5\n",
    "# The R status, which has the lowest count, have the highest median and the average Income compared the rest of the groups\n",
    "# The S has minimum of 0, which is possible given that the Age Group A are mostly assgined in 'S'"
   ]
  },
  {
   "cell_type": "markdown",
   "id": "42559f9c-fa5f-4a8f-9e39-2375379472b8",
   "metadata": {},
   "source": [
    "## Export the dataset, to be insert the data into MSSQL"
   ]
  },
  {
   "cell_type": "code",
   "execution_count": 34,
   "id": "e06977f0-a9d9-41fe-b3d7-2bd4049d9fa0",
   "metadata": {},
   "outputs": [
    {
     "name": "stdout",
     "output_type": "stream",
     "text": [
      "<class 'pandas.core.frame.DataFrame'>\n",
      "RangeIndex: 4017 entries, 0 to 4016\n",
      "Data columns (total 10 columns):\n",
      " #   Column          Non-Null Count  Dtype  \n",
      "---  ------          --------------  -----  \n",
      " 0   POLICY_NUMBER   4017 non-null   int64  \n",
      " 1   PLAN_CODE       4017 non-null   int64  \n",
      " 2   CLIENT_CODE     4017 non-null   int64  \n",
      " 3   SUM_ASSURED     4017 non-null   float64\n",
      " 4   MODAL_PREMIUM   4017 non-null   int64  \n",
      " 5   ISSUE_DATE      4017 non-null   object \n",
      " 6   TYPE            4017 non-null   object \n",
      " 7   POLICY_STATUS   4017 non-null   object \n",
      " 8   SURRENDER_DATE  33 non-null     object \n",
      " 9   PAYMENT_MODE    4017 non-null   int64  \n",
      "dtypes: float64(1), int64(5), object(4)\n",
      "memory usage: 314.0+ KB\n",
      "None\n",
      "\n",
      "\n",
      "       POLICY_NUMBER    PLAN_CODE   CLIENT_CODE   SUM_ASSURED  MODAL_PREMIUM  \\\n",
      "count    4017.000000  4017.000000   4017.000000  4.017000e+03    4017.000000   \n",
      "mean    19778.249440   107.263630  16918.975604  3.905238e+05    1592.545183   \n",
      "std     11475.464835    57.248332   9915.556984  2.097954e+06     810.903380   \n",
      "min        14.000000     0.000000      2.000000  3.750000e+02     200.000000   \n",
      "25%      9932.000000    66.000000   8255.000000  5.000000e+04     879.000000   \n",
      "50%     19708.000000   132.000000  16750.000000  1.250000e+05    1596.000000   \n",
      "75%     29549.000000   154.000000  25516.000000  3.375000e+05    2286.000000   \n",
      "max     39728.000000   170.000000  33119.000000  8.766845e+07    2998.000000   \n",
      "\n",
      "       PAYMENT_MODE  \n",
      "count   4017.000000  \n",
      "mean       6.516555  \n",
      "std        5.423250  \n",
      "min        0.000000  \n",
      "25%        1.000000  \n",
      "50%        6.000000  \n",
      "75%       12.000000  \n",
      "max       12.000000  \n"
     ]
    }
   ],
   "source": [
    "# account\n",
    "\n",
    "print(account.info())\n",
    "print('\\n')\n",
    "print(account.describe())"
   ]
  },
  {
   "cell_type": "code",
   "execution_count": 35,
   "id": "8235c797-e30e-4b63-b3dd-321aa1c42687",
   "metadata": {},
   "outputs": [
    {
     "name": "stdout",
     "output_type": "stream",
     "text": [
      "<class 'pandas.core.frame.DataFrame'>\n",
      "RangeIndex: 4013 entries, 0 to 4012\n",
      "Data columns (total 7 columns):\n",
      " #   Column          Non-Null Count  Dtype \n",
      "---  ------          --------------  ----- \n",
      " 0   CLIENT_CODE     4013 non-null   int64 \n",
      " 1   AGE             4013 non-null   object\n",
      " 2   MARITAL_STATUS  4013 non-null   object\n",
      " 3   GENDER          4013 non-null   object\n",
      " 4   INCOME          4013 non-null   int64 \n",
      " 5   POSTCODE        4013 non-null   int64 \n",
      " 6   LASTUPDATE      4013 non-null   object\n",
      "dtypes: int64(3), object(4)\n",
      "memory usage: 219.6+ KB\n",
      "None\n",
      "\n",
      "\n",
      "        CLIENT_CODE         INCOME      POSTCODE\n",
      "count   4013.000000    4013.000000   4013.000000\n",
      "mean   16911.176177  105899.327187  51016.468976\n",
      "std     9907.156284  120025.702764  21407.830736\n",
      "min       21.000000       0.000000  10470.000000\n",
      "25%     8255.000000   48000.000000  41250.000000\n",
      "50%    16709.000000   60000.000000  50450.000000\n",
      "75%    25488.000000  108000.000000  75000.000000\n",
      "max    33119.000000  500000.000000  81100.000000\n"
     ]
    }
   ],
   "source": [
    "# customer\n",
    "\n",
    "print(customer.info())\n",
    "print('\\n')\n",
    "print(customer.describe())"
   ]
  },
  {
   "cell_type": "code",
   "execution_count": 36,
   "id": "ee524768-74f5-4eac-958f-97abf03e8eee",
   "metadata": {},
   "outputs": [],
   "source": [
    "# Rounding any floats to 2 decimal places\n",
    "account['SUM_ASSURED'] = round(account['SUM_ASSURED'],2)"
   ]
  },
  {
   "cell_type": "code",
   "execution_count": 37,
   "id": "2ff46e3e-60f6-47c9-a8fc-c63f7eaa9c9a",
   "metadata": {},
   "outputs": [],
   "source": [
    "# export\n",
    "account.to_csv('Account_cleaned.csv', index = False)\n",
    "customer.to_csv('Customer_cleaned.csv', index = False)"
   ]
  },
  {
   "cell_type": "markdown",
   "id": "9888bbf4-a008-44e5-bcbe-de8e846671cb",
   "metadata": {},
   "source": [
    "## Additional"
   ]
  },
  {
   "cell_type": "code",
   "execution_count": 38,
   "id": "71ede4b4-4830-45bd-b20e-3606392ca4eb",
   "metadata": {},
   "outputs": [
    {
     "data": {
      "text/html": [
       "<div>\n",
       "<style scoped>\n",
       "    .dataframe tbody tr th:only-of-type {\n",
       "        vertical-align: middle;\n",
       "    }\n",
       "\n",
       "    .dataframe tbody tr th {\n",
       "        vertical-align: top;\n",
       "    }\n",
       "\n",
       "    .dataframe thead th {\n",
       "        text-align: right;\n",
       "    }\n",
       "</style>\n",
       "<table border=\"1\" class=\"dataframe\">\n",
       "  <thead>\n",
       "    <tr style=\"text-align: right;\">\n",
       "      <th></th>\n",
       "      <th>POLICY_NUMBER</th>\n",
       "      <th>PLAN_CODE</th>\n",
       "      <th>CLIENT_CODE</th>\n",
       "      <th>SUM_ASSURED</th>\n",
       "      <th>MODAL_PREMIUM</th>\n",
       "      <th>PAYMENT_MODE</th>\n",
       "      <th>TOTAL_PREMIUM</th>\n",
       "    </tr>\n",
       "  </thead>\n",
       "  <tbody>\n",
       "    <tr>\n",
       "      <th>count</th>\n",
       "      <td>4017.000000</td>\n",
       "      <td>4017.000000</td>\n",
       "      <td>4017.000000</td>\n",
       "      <td>4.017000e+03</td>\n",
       "      <td>4017.000000</td>\n",
       "      <td>4017.000000</td>\n",
       "      <td>4017.000000</td>\n",
       "    </tr>\n",
       "    <tr>\n",
       "      <th>mean</th>\n",
       "      <td>19778.249440</td>\n",
       "      <td>107.263630</td>\n",
       "      <td>16918.975604</td>\n",
       "      <td>3.905238e+05</td>\n",
       "      <td>1592.545183</td>\n",
       "      <td>6.516555</td>\n",
       "      <td>10330.449838</td>\n",
       "    </tr>\n",
       "    <tr>\n",
       "      <th>std</th>\n",
       "      <td>11475.464835</td>\n",
       "      <td>57.248332</td>\n",
       "      <td>9915.556984</td>\n",
       "      <td>2.097954e+06</td>\n",
       "      <td>810.903380</td>\n",
       "      <td>5.423250</td>\n",
       "      <td>11000.807187</td>\n",
       "    </tr>\n",
       "    <tr>\n",
       "      <th>min</th>\n",
       "      <td>14.000000</td>\n",
       "      <td>0.000000</td>\n",
       "      <td>2.000000</td>\n",
       "      <td>3.750000e+02</td>\n",
       "      <td>200.000000</td>\n",
       "      <td>0.000000</td>\n",
       "      <td>0.000000</td>\n",
       "    </tr>\n",
       "    <tr>\n",
       "      <th>25%</th>\n",
       "      <td>9932.000000</td>\n",
       "      <td>66.000000</td>\n",
       "      <td>8255.000000</td>\n",
       "      <td>5.000000e+04</td>\n",
       "      <td>879.000000</td>\n",
       "      <td>1.000000</td>\n",
       "      <td>1592.000000</td>\n",
       "    </tr>\n",
       "    <tr>\n",
       "      <th>50%</th>\n",
       "      <td>19708.000000</td>\n",
       "      <td>132.000000</td>\n",
       "      <td>16750.000000</td>\n",
       "      <td>1.250000e+05</td>\n",
       "      <td>1596.000000</td>\n",
       "      <td>6.000000</td>\n",
       "      <td>4116.000000</td>\n",
       "    </tr>\n",
       "    <tr>\n",
       "      <th>75%</th>\n",
       "      <td>29549.000000</td>\n",
       "      <td>154.000000</td>\n",
       "      <td>25516.000000</td>\n",
       "      <td>3.375000e+05</td>\n",
       "      <td>2286.000000</td>\n",
       "      <td>12.000000</td>\n",
       "      <td>18420.000000</td>\n",
       "    </tr>\n",
       "    <tr>\n",
       "      <th>max</th>\n",
       "      <td>39728.000000</td>\n",
       "      <td>170.000000</td>\n",
       "      <td>33119.000000</td>\n",
       "      <td>8.766845e+07</td>\n",
       "      <td>2998.000000</td>\n",
       "      <td>12.000000</td>\n",
       "      <td>35952.000000</td>\n",
       "    </tr>\n",
       "  </tbody>\n",
       "</table>\n",
       "</div>"
      ],
      "text/plain": [
       "       POLICY_NUMBER    PLAN_CODE   CLIENT_CODE   SUM_ASSURED  MODAL_PREMIUM  \\\n",
       "count    4017.000000  4017.000000   4017.000000  4.017000e+03    4017.000000   \n",
       "mean    19778.249440   107.263630  16918.975604  3.905238e+05    1592.545183   \n",
       "std     11475.464835    57.248332   9915.556984  2.097954e+06     810.903380   \n",
       "min        14.000000     0.000000      2.000000  3.750000e+02     200.000000   \n",
       "25%      9932.000000    66.000000   8255.000000  5.000000e+04     879.000000   \n",
       "50%     19708.000000   132.000000  16750.000000  1.250000e+05    1596.000000   \n",
       "75%     29549.000000   154.000000  25516.000000  3.375000e+05    2286.000000   \n",
       "max     39728.000000   170.000000  33119.000000  8.766845e+07    2998.000000   \n",
       "\n",
       "       PAYMENT_MODE  TOTAL_PREMIUM  \n",
       "count   4017.000000    4017.000000  \n",
       "mean       6.516555   10330.449838  \n",
       "std        5.423250   11000.807187  \n",
       "min        0.000000       0.000000  \n",
       "25%        1.000000    1592.000000  \n",
       "50%        6.000000    4116.000000  \n",
       "75%       12.000000   18420.000000  \n",
       "max       12.000000   35952.000000  "
      ]
     },
     "execution_count": 38,
     "metadata": {},
     "output_type": "execute_result"
    }
   ],
   "source": [
    "# Calculating new columns, Premiums Paid with Mode of Frequency included\n",
    "account['TOTAL_PREMIUM'] = account['MODAL_PREMIUM']*account['PAYMENT_MODE']\n",
    "\n",
    "# Describing the statistics\n",
    "account.describe()\n",
    "\n",
    "# Determine the median for TOTAL_PREMIUM is the best representative for the calculation"
   ]
  }
 ],
 "metadata": {
  "kernelspec": {
   "display_name": "Python 3 (ipykernel)",
   "language": "python",
   "name": "python3"
  },
  "language_info": {
   "codemirror_mode": {
    "name": "ipython",
    "version": 3
   },
   "file_extension": ".py",
   "mimetype": "text/x-python",
   "name": "python",
   "nbconvert_exporter": "python",
   "pygments_lexer": "ipython3",
   "version": "3.9.7"
  }
 },
 "nbformat": 4,
 "nbformat_minor": 5
}
